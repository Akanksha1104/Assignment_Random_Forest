{
  "cells": [
    {
      "cell_type": "code",
      "execution_count": 1,
      "id": "ff4d5b8b",
      "metadata": {
        "colab": {
          "base_uri": "https://localhost:8080/",
          "height": 424
        },
        "id": "ff4d5b8b",
        "outputId": "fc72f75f-e9c9-4104-ce68-f582c6e5c9cb"
      },
      "outputs": [
        {
          "output_type": "execute_result",
          "data": {
            "text/plain": [
              "    Undergrad Marital.Status  Taxable.Income  City.Population  \\\n",
              "0          NO         Single           68833            50047   \n",
              "1         YES       Divorced           33700           134075   \n",
              "2          NO        Married           36925           160205   \n",
              "3         YES         Single           50190           193264   \n",
              "4          NO        Married           81002            27533   \n",
              "..        ...            ...             ...              ...   \n",
              "595       YES       Divorced           76340            39492   \n",
              "596       YES       Divorced           69967            55369   \n",
              "597        NO       Divorced           47334           154058   \n",
              "598       YES        Married           98592           180083   \n",
              "599        NO       Divorced           96519           158137   \n",
              "\n",
              "     Work.Experience Urban  \n",
              "0                 10   YES  \n",
              "1                 18   YES  \n",
              "2                 30   YES  \n",
              "3                 15   YES  \n",
              "4                 28    NO  \n",
              "..               ...   ...  \n",
              "595                7   YES  \n",
              "596                2   YES  \n",
              "597                0   YES  \n",
              "598               17    NO  \n",
              "599               16    NO  \n",
              "\n",
              "[600 rows x 6 columns]"
            ],
            "text/html": [
              "\n",
              "  <div id=\"df-a340da0b-dcd6-4996-bfab-20ec8c14e195\">\n",
              "    <div class=\"colab-df-container\">\n",
              "      <div>\n",
              "<style scoped>\n",
              "    .dataframe tbody tr th:only-of-type {\n",
              "        vertical-align: middle;\n",
              "    }\n",
              "\n",
              "    .dataframe tbody tr th {\n",
              "        vertical-align: top;\n",
              "    }\n",
              "\n",
              "    .dataframe thead th {\n",
              "        text-align: right;\n",
              "    }\n",
              "</style>\n",
              "<table border=\"1\" class=\"dataframe\">\n",
              "  <thead>\n",
              "    <tr style=\"text-align: right;\">\n",
              "      <th></th>\n",
              "      <th>Undergrad</th>\n",
              "      <th>Marital.Status</th>\n",
              "      <th>Taxable.Income</th>\n",
              "      <th>City.Population</th>\n",
              "      <th>Work.Experience</th>\n",
              "      <th>Urban</th>\n",
              "    </tr>\n",
              "  </thead>\n",
              "  <tbody>\n",
              "    <tr>\n",
              "      <th>0</th>\n",
              "      <td>NO</td>\n",
              "      <td>Single</td>\n",
              "      <td>68833</td>\n",
              "      <td>50047</td>\n",
              "      <td>10</td>\n",
              "      <td>YES</td>\n",
              "    </tr>\n",
              "    <tr>\n",
              "      <th>1</th>\n",
              "      <td>YES</td>\n",
              "      <td>Divorced</td>\n",
              "      <td>33700</td>\n",
              "      <td>134075</td>\n",
              "      <td>18</td>\n",
              "      <td>YES</td>\n",
              "    </tr>\n",
              "    <tr>\n",
              "      <th>2</th>\n",
              "      <td>NO</td>\n",
              "      <td>Married</td>\n",
              "      <td>36925</td>\n",
              "      <td>160205</td>\n",
              "      <td>30</td>\n",
              "      <td>YES</td>\n",
              "    </tr>\n",
              "    <tr>\n",
              "      <th>3</th>\n",
              "      <td>YES</td>\n",
              "      <td>Single</td>\n",
              "      <td>50190</td>\n",
              "      <td>193264</td>\n",
              "      <td>15</td>\n",
              "      <td>YES</td>\n",
              "    </tr>\n",
              "    <tr>\n",
              "      <th>4</th>\n",
              "      <td>NO</td>\n",
              "      <td>Married</td>\n",
              "      <td>81002</td>\n",
              "      <td>27533</td>\n",
              "      <td>28</td>\n",
              "      <td>NO</td>\n",
              "    </tr>\n",
              "    <tr>\n",
              "      <th>...</th>\n",
              "      <td>...</td>\n",
              "      <td>...</td>\n",
              "      <td>...</td>\n",
              "      <td>...</td>\n",
              "      <td>...</td>\n",
              "      <td>...</td>\n",
              "    </tr>\n",
              "    <tr>\n",
              "      <th>595</th>\n",
              "      <td>YES</td>\n",
              "      <td>Divorced</td>\n",
              "      <td>76340</td>\n",
              "      <td>39492</td>\n",
              "      <td>7</td>\n",
              "      <td>YES</td>\n",
              "    </tr>\n",
              "    <tr>\n",
              "      <th>596</th>\n",
              "      <td>YES</td>\n",
              "      <td>Divorced</td>\n",
              "      <td>69967</td>\n",
              "      <td>55369</td>\n",
              "      <td>2</td>\n",
              "      <td>YES</td>\n",
              "    </tr>\n",
              "    <tr>\n",
              "      <th>597</th>\n",
              "      <td>NO</td>\n",
              "      <td>Divorced</td>\n",
              "      <td>47334</td>\n",
              "      <td>154058</td>\n",
              "      <td>0</td>\n",
              "      <td>YES</td>\n",
              "    </tr>\n",
              "    <tr>\n",
              "      <th>598</th>\n",
              "      <td>YES</td>\n",
              "      <td>Married</td>\n",
              "      <td>98592</td>\n",
              "      <td>180083</td>\n",
              "      <td>17</td>\n",
              "      <td>NO</td>\n",
              "    </tr>\n",
              "    <tr>\n",
              "      <th>599</th>\n",
              "      <td>NO</td>\n",
              "      <td>Divorced</td>\n",
              "      <td>96519</td>\n",
              "      <td>158137</td>\n",
              "      <td>16</td>\n",
              "      <td>NO</td>\n",
              "    </tr>\n",
              "  </tbody>\n",
              "</table>\n",
              "<p>600 rows × 6 columns</p>\n",
              "</div>\n",
              "      <button class=\"colab-df-convert\" onclick=\"convertToInteractive('df-a340da0b-dcd6-4996-bfab-20ec8c14e195')\"\n",
              "              title=\"Convert this dataframe to an interactive table.\"\n",
              "              style=\"display:none;\">\n",
              "        \n",
              "  <svg xmlns=\"http://www.w3.org/2000/svg\" height=\"24px\"viewBox=\"0 0 24 24\"\n",
              "       width=\"24px\">\n",
              "    <path d=\"M0 0h24v24H0V0z\" fill=\"none\"/>\n",
              "    <path d=\"M18.56 5.44l.94 2.06.94-2.06 2.06-.94-2.06-.94-.94-2.06-.94 2.06-2.06.94zm-11 1L8.5 8.5l.94-2.06 2.06-.94-2.06-.94L8.5 2.5l-.94 2.06-2.06.94zm10 10l.94 2.06.94-2.06 2.06-.94-2.06-.94-.94-2.06-.94 2.06-2.06.94z\"/><path d=\"M17.41 7.96l-1.37-1.37c-.4-.4-.92-.59-1.43-.59-.52 0-1.04.2-1.43.59L10.3 9.45l-7.72 7.72c-.78.78-.78 2.05 0 2.83L4 21.41c.39.39.9.59 1.41.59.51 0 1.02-.2 1.41-.59l7.78-7.78 2.81-2.81c.8-.78.8-2.07 0-2.86zM5.41 20L4 18.59l7.72-7.72 1.47 1.35L5.41 20z\"/>\n",
              "  </svg>\n",
              "      </button>\n",
              "      \n",
              "  <style>\n",
              "    .colab-df-container {\n",
              "      display:flex;\n",
              "      flex-wrap:wrap;\n",
              "      gap: 12px;\n",
              "    }\n",
              "\n",
              "    .colab-df-convert {\n",
              "      background-color: #E8F0FE;\n",
              "      border: none;\n",
              "      border-radius: 50%;\n",
              "      cursor: pointer;\n",
              "      display: none;\n",
              "      fill: #1967D2;\n",
              "      height: 32px;\n",
              "      padding: 0 0 0 0;\n",
              "      width: 32px;\n",
              "    }\n",
              "\n",
              "    .colab-df-convert:hover {\n",
              "      background-color: #E2EBFA;\n",
              "      box-shadow: 0px 1px 2px rgba(60, 64, 67, 0.3), 0px 1px 3px 1px rgba(60, 64, 67, 0.15);\n",
              "      fill: #174EA6;\n",
              "    }\n",
              "\n",
              "    [theme=dark] .colab-df-convert {\n",
              "      background-color: #3B4455;\n",
              "      fill: #D2E3FC;\n",
              "    }\n",
              "\n",
              "    [theme=dark] .colab-df-convert:hover {\n",
              "      background-color: #434B5C;\n",
              "      box-shadow: 0px 1px 3px 1px rgba(0, 0, 0, 0.15);\n",
              "      filter: drop-shadow(0px 1px 2px rgba(0, 0, 0, 0.3));\n",
              "      fill: #FFFFFF;\n",
              "    }\n",
              "  </style>\n",
              "\n",
              "      <script>\n",
              "        const buttonEl =\n",
              "          document.querySelector('#df-a340da0b-dcd6-4996-bfab-20ec8c14e195 button.colab-df-convert');\n",
              "        buttonEl.style.display =\n",
              "          google.colab.kernel.accessAllowed ? 'block' : 'none';\n",
              "\n",
              "        async function convertToInteractive(key) {\n",
              "          const element = document.querySelector('#df-a340da0b-dcd6-4996-bfab-20ec8c14e195');\n",
              "          const dataTable =\n",
              "            await google.colab.kernel.invokeFunction('convertToInteractive',\n",
              "                                                     [key], {});\n",
              "          if (!dataTable) return;\n",
              "\n",
              "          const docLinkHtml = 'Like what you see? Visit the ' +\n",
              "            '<a target=\"_blank\" href=https://colab.research.google.com/notebooks/data_table.ipynb>data table notebook</a>'\n",
              "            + ' to learn more about interactive tables.';\n",
              "          element.innerHTML = '';\n",
              "          dataTable['output_type'] = 'display_data';\n",
              "          await google.colab.output.renderOutput(dataTable, element);\n",
              "          const docLink = document.createElement('div');\n",
              "          docLink.innerHTML = docLinkHtml;\n",
              "          element.appendChild(docLink);\n",
              "        }\n",
              "      </script>\n",
              "    </div>\n",
              "  </div>\n",
              "  "
            ]
          },
          "metadata": {},
          "execution_count": 1
        }
      ],
      "source": [
        "#importing necessary libraries\n",
        "import pandas as pd\n",
        "import matplotlib.pyplot as plt\n",
        "from sklearn import datasets  \n",
        "import numpy as np\n",
        "from sklearn.model_selection import train_test_split\n",
        "from sklearn.tree import  DecisionTreeClassifier\n",
        "from sklearn import tree\n",
        "from sklearn.metrics import classification_report\n",
        "from sklearn import preprocessing\n",
        "\n",
        "df = pd.read_csv(\"Fraud_check.csv\")\n",
        "df"
      ]
    },
    {
      "cell_type": "code",
      "execution_count": 2,
      "id": "82673ee8",
      "metadata": {
        "colab": {
          "base_uri": "https://localhost:8080/",
          "height": 206
        },
        "id": "82673ee8",
        "outputId": "c5d100b8-1655-4d81-db48-3d2eb54771ef"
      },
      "outputs": [
        {
          "output_type": "execute_result",
          "data": {
            "text/plain": [
              "  Undergrad Marital.Status  Taxable.Income  City.Population  Work.Experience  \\\n",
              "0        NO         Single           68833            50047               10   \n",
              "1       YES       Divorced           33700           134075               18   \n",
              "2        NO        Married           36925           160205               30   \n",
              "3       YES         Single           50190           193264               15   \n",
              "4        NO        Married           81002            27533               28   \n",
              "\n",
              "  Urban  \n",
              "0   YES  \n",
              "1   YES  \n",
              "2   YES  \n",
              "3   YES  \n",
              "4    NO  "
            ],
            "text/html": [
              "\n",
              "  <div id=\"df-4ce50089-3a5f-4dc1-9502-0acc33e0783c\">\n",
              "    <div class=\"colab-df-container\">\n",
              "      <div>\n",
              "<style scoped>\n",
              "    .dataframe tbody tr th:only-of-type {\n",
              "        vertical-align: middle;\n",
              "    }\n",
              "\n",
              "    .dataframe tbody tr th {\n",
              "        vertical-align: top;\n",
              "    }\n",
              "\n",
              "    .dataframe thead th {\n",
              "        text-align: right;\n",
              "    }\n",
              "</style>\n",
              "<table border=\"1\" class=\"dataframe\">\n",
              "  <thead>\n",
              "    <tr style=\"text-align: right;\">\n",
              "      <th></th>\n",
              "      <th>Undergrad</th>\n",
              "      <th>Marital.Status</th>\n",
              "      <th>Taxable.Income</th>\n",
              "      <th>City.Population</th>\n",
              "      <th>Work.Experience</th>\n",
              "      <th>Urban</th>\n",
              "    </tr>\n",
              "  </thead>\n",
              "  <tbody>\n",
              "    <tr>\n",
              "      <th>0</th>\n",
              "      <td>NO</td>\n",
              "      <td>Single</td>\n",
              "      <td>68833</td>\n",
              "      <td>50047</td>\n",
              "      <td>10</td>\n",
              "      <td>YES</td>\n",
              "    </tr>\n",
              "    <tr>\n",
              "      <th>1</th>\n",
              "      <td>YES</td>\n",
              "      <td>Divorced</td>\n",
              "      <td>33700</td>\n",
              "      <td>134075</td>\n",
              "      <td>18</td>\n",
              "      <td>YES</td>\n",
              "    </tr>\n",
              "    <tr>\n",
              "      <th>2</th>\n",
              "      <td>NO</td>\n",
              "      <td>Married</td>\n",
              "      <td>36925</td>\n",
              "      <td>160205</td>\n",
              "      <td>30</td>\n",
              "      <td>YES</td>\n",
              "    </tr>\n",
              "    <tr>\n",
              "      <th>3</th>\n",
              "      <td>YES</td>\n",
              "      <td>Single</td>\n",
              "      <td>50190</td>\n",
              "      <td>193264</td>\n",
              "      <td>15</td>\n",
              "      <td>YES</td>\n",
              "    </tr>\n",
              "    <tr>\n",
              "      <th>4</th>\n",
              "      <td>NO</td>\n",
              "      <td>Married</td>\n",
              "      <td>81002</td>\n",
              "      <td>27533</td>\n",
              "      <td>28</td>\n",
              "      <td>NO</td>\n",
              "    </tr>\n",
              "  </tbody>\n",
              "</table>\n",
              "</div>\n",
              "      <button class=\"colab-df-convert\" onclick=\"convertToInteractive('df-4ce50089-3a5f-4dc1-9502-0acc33e0783c')\"\n",
              "              title=\"Convert this dataframe to an interactive table.\"\n",
              "              style=\"display:none;\">\n",
              "        \n",
              "  <svg xmlns=\"http://www.w3.org/2000/svg\" height=\"24px\"viewBox=\"0 0 24 24\"\n",
              "       width=\"24px\">\n",
              "    <path d=\"M0 0h24v24H0V0z\" fill=\"none\"/>\n",
              "    <path d=\"M18.56 5.44l.94 2.06.94-2.06 2.06-.94-2.06-.94-.94-2.06-.94 2.06-2.06.94zm-11 1L8.5 8.5l.94-2.06 2.06-.94-2.06-.94L8.5 2.5l-.94 2.06-2.06.94zm10 10l.94 2.06.94-2.06 2.06-.94-2.06-.94-.94-2.06-.94 2.06-2.06.94z\"/><path d=\"M17.41 7.96l-1.37-1.37c-.4-.4-.92-.59-1.43-.59-.52 0-1.04.2-1.43.59L10.3 9.45l-7.72 7.72c-.78.78-.78 2.05 0 2.83L4 21.41c.39.39.9.59 1.41.59.51 0 1.02-.2 1.41-.59l7.78-7.78 2.81-2.81c.8-.78.8-2.07 0-2.86zM5.41 20L4 18.59l7.72-7.72 1.47 1.35L5.41 20z\"/>\n",
              "  </svg>\n",
              "      </button>\n",
              "      \n",
              "  <style>\n",
              "    .colab-df-container {\n",
              "      display:flex;\n",
              "      flex-wrap:wrap;\n",
              "      gap: 12px;\n",
              "    }\n",
              "\n",
              "    .colab-df-convert {\n",
              "      background-color: #E8F0FE;\n",
              "      border: none;\n",
              "      border-radius: 50%;\n",
              "      cursor: pointer;\n",
              "      display: none;\n",
              "      fill: #1967D2;\n",
              "      height: 32px;\n",
              "      padding: 0 0 0 0;\n",
              "      width: 32px;\n",
              "    }\n",
              "\n",
              "    .colab-df-convert:hover {\n",
              "      background-color: #E2EBFA;\n",
              "      box-shadow: 0px 1px 2px rgba(60, 64, 67, 0.3), 0px 1px 3px 1px rgba(60, 64, 67, 0.15);\n",
              "      fill: #174EA6;\n",
              "    }\n",
              "\n",
              "    [theme=dark] .colab-df-convert {\n",
              "      background-color: #3B4455;\n",
              "      fill: #D2E3FC;\n",
              "    }\n",
              "\n",
              "    [theme=dark] .colab-df-convert:hover {\n",
              "      background-color: #434B5C;\n",
              "      box-shadow: 0px 1px 3px 1px rgba(0, 0, 0, 0.15);\n",
              "      filter: drop-shadow(0px 1px 2px rgba(0, 0, 0, 0.3));\n",
              "      fill: #FFFFFF;\n",
              "    }\n",
              "  </style>\n",
              "\n",
              "      <script>\n",
              "        const buttonEl =\n",
              "          document.querySelector('#df-4ce50089-3a5f-4dc1-9502-0acc33e0783c button.colab-df-convert');\n",
              "        buttonEl.style.display =\n",
              "          google.colab.kernel.accessAllowed ? 'block' : 'none';\n",
              "\n",
              "        async function convertToInteractive(key) {\n",
              "          const element = document.querySelector('#df-4ce50089-3a5f-4dc1-9502-0acc33e0783c');\n",
              "          const dataTable =\n",
              "            await google.colab.kernel.invokeFunction('convertToInteractive',\n",
              "                                                     [key], {});\n",
              "          if (!dataTable) return;\n",
              "\n",
              "          const docLinkHtml = 'Like what you see? Visit the ' +\n",
              "            '<a target=\"_blank\" href=https://colab.research.google.com/notebooks/data_table.ipynb>data table notebook</a>'\n",
              "            + ' to learn more about interactive tables.';\n",
              "          element.innerHTML = '';\n",
              "          dataTable['output_type'] = 'display_data';\n",
              "          await google.colab.output.renderOutput(dataTable, element);\n",
              "          const docLink = document.createElement('div');\n",
              "          docLink.innerHTML = docLinkHtml;\n",
              "          element.appendChild(docLink);\n",
              "        }\n",
              "      </script>\n",
              "    </div>\n",
              "  </div>\n",
              "  "
            ]
          },
          "metadata": {},
          "execution_count": 2
        }
      ],
      "source": [
        "#Viewing top 5 rows of dataframe\n",
        "df.head()"
      ]
    },
    {
      "cell_type": "code",
      "execution_count": 3,
      "id": "b363a723",
      "metadata": {
        "colab": {
          "base_uri": "https://localhost:8080/",
          "height": 206
        },
        "id": "b363a723",
        "outputId": "2c89271a-5e0b-4850-99b0-c6d36da60570"
      },
      "outputs": [
        {
          "output_type": "execute_result",
          "data": {
            "text/plain": [
              "    Undergrad Marital.Status  Taxable.Income  City.Population  \\\n",
              "595       YES       Divorced           76340            39492   \n",
              "596       YES       Divorced           69967            55369   \n",
              "597        NO       Divorced           47334           154058   \n",
              "598       YES        Married           98592           180083   \n",
              "599        NO       Divorced           96519           158137   \n",
              "\n",
              "     Work.Experience Urban  \n",
              "595                7   YES  \n",
              "596                2   YES  \n",
              "597                0   YES  \n",
              "598               17    NO  \n",
              "599               16    NO  "
            ],
            "text/html": [
              "\n",
              "  <div id=\"df-554e2b9d-5453-4e53-bcbe-b83e9a2baf4c\">\n",
              "    <div class=\"colab-df-container\">\n",
              "      <div>\n",
              "<style scoped>\n",
              "    .dataframe tbody tr th:only-of-type {\n",
              "        vertical-align: middle;\n",
              "    }\n",
              "\n",
              "    .dataframe tbody tr th {\n",
              "        vertical-align: top;\n",
              "    }\n",
              "\n",
              "    .dataframe thead th {\n",
              "        text-align: right;\n",
              "    }\n",
              "</style>\n",
              "<table border=\"1\" class=\"dataframe\">\n",
              "  <thead>\n",
              "    <tr style=\"text-align: right;\">\n",
              "      <th></th>\n",
              "      <th>Undergrad</th>\n",
              "      <th>Marital.Status</th>\n",
              "      <th>Taxable.Income</th>\n",
              "      <th>City.Population</th>\n",
              "      <th>Work.Experience</th>\n",
              "      <th>Urban</th>\n",
              "    </tr>\n",
              "  </thead>\n",
              "  <tbody>\n",
              "    <tr>\n",
              "      <th>595</th>\n",
              "      <td>YES</td>\n",
              "      <td>Divorced</td>\n",
              "      <td>76340</td>\n",
              "      <td>39492</td>\n",
              "      <td>7</td>\n",
              "      <td>YES</td>\n",
              "    </tr>\n",
              "    <tr>\n",
              "      <th>596</th>\n",
              "      <td>YES</td>\n",
              "      <td>Divorced</td>\n",
              "      <td>69967</td>\n",
              "      <td>55369</td>\n",
              "      <td>2</td>\n",
              "      <td>YES</td>\n",
              "    </tr>\n",
              "    <tr>\n",
              "      <th>597</th>\n",
              "      <td>NO</td>\n",
              "      <td>Divorced</td>\n",
              "      <td>47334</td>\n",
              "      <td>154058</td>\n",
              "      <td>0</td>\n",
              "      <td>YES</td>\n",
              "    </tr>\n",
              "    <tr>\n",
              "      <th>598</th>\n",
              "      <td>YES</td>\n",
              "      <td>Married</td>\n",
              "      <td>98592</td>\n",
              "      <td>180083</td>\n",
              "      <td>17</td>\n",
              "      <td>NO</td>\n",
              "    </tr>\n",
              "    <tr>\n",
              "      <th>599</th>\n",
              "      <td>NO</td>\n",
              "      <td>Divorced</td>\n",
              "      <td>96519</td>\n",
              "      <td>158137</td>\n",
              "      <td>16</td>\n",
              "      <td>NO</td>\n",
              "    </tr>\n",
              "  </tbody>\n",
              "</table>\n",
              "</div>\n",
              "      <button class=\"colab-df-convert\" onclick=\"convertToInteractive('df-554e2b9d-5453-4e53-bcbe-b83e9a2baf4c')\"\n",
              "              title=\"Convert this dataframe to an interactive table.\"\n",
              "              style=\"display:none;\">\n",
              "        \n",
              "  <svg xmlns=\"http://www.w3.org/2000/svg\" height=\"24px\"viewBox=\"0 0 24 24\"\n",
              "       width=\"24px\">\n",
              "    <path d=\"M0 0h24v24H0V0z\" fill=\"none\"/>\n",
              "    <path d=\"M18.56 5.44l.94 2.06.94-2.06 2.06-.94-2.06-.94-.94-2.06-.94 2.06-2.06.94zm-11 1L8.5 8.5l.94-2.06 2.06-.94-2.06-.94L8.5 2.5l-.94 2.06-2.06.94zm10 10l.94 2.06.94-2.06 2.06-.94-2.06-.94-.94-2.06-.94 2.06-2.06.94z\"/><path d=\"M17.41 7.96l-1.37-1.37c-.4-.4-.92-.59-1.43-.59-.52 0-1.04.2-1.43.59L10.3 9.45l-7.72 7.72c-.78.78-.78 2.05 0 2.83L4 21.41c.39.39.9.59 1.41.59.51 0 1.02-.2 1.41-.59l7.78-7.78 2.81-2.81c.8-.78.8-2.07 0-2.86zM5.41 20L4 18.59l7.72-7.72 1.47 1.35L5.41 20z\"/>\n",
              "  </svg>\n",
              "      </button>\n",
              "      \n",
              "  <style>\n",
              "    .colab-df-container {\n",
              "      display:flex;\n",
              "      flex-wrap:wrap;\n",
              "      gap: 12px;\n",
              "    }\n",
              "\n",
              "    .colab-df-convert {\n",
              "      background-color: #E8F0FE;\n",
              "      border: none;\n",
              "      border-radius: 50%;\n",
              "      cursor: pointer;\n",
              "      display: none;\n",
              "      fill: #1967D2;\n",
              "      height: 32px;\n",
              "      padding: 0 0 0 0;\n",
              "      width: 32px;\n",
              "    }\n",
              "\n",
              "    .colab-df-convert:hover {\n",
              "      background-color: #E2EBFA;\n",
              "      box-shadow: 0px 1px 2px rgba(60, 64, 67, 0.3), 0px 1px 3px 1px rgba(60, 64, 67, 0.15);\n",
              "      fill: #174EA6;\n",
              "    }\n",
              "\n",
              "    [theme=dark] .colab-df-convert {\n",
              "      background-color: #3B4455;\n",
              "      fill: #D2E3FC;\n",
              "    }\n",
              "\n",
              "    [theme=dark] .colab-df-convert:hover {\n",
              "      background-color: #434B5C;\n",
              "      box-shadow: 0px 1px 3px 1px rgba(0, 0, 0, 0.15);\n",
              "      filter: drop-shadow(0px 1px 2px rgba(0, 0, 0, 0.3));\n",
              "      fill: #FFFFFF;\n",
              "    }\n",
              "  </style>\n",
              "\n",
              "      <script>\n",
              "        const buttonEl =\n",
              "          document.querySelector('#df-554e2b9d-5453-4e53-bcbe-b83e9a2baf4c button.colab-df-convert');\n",
              "        buttonEl.style.display =\n",
              "          google.colab.kernel.accessAllowed ? 'block' : 'none';\n",
              "\n",
              "        async function convertToInteractive(key) {\n",
              "          const element = document.querySelector('#df-554e2b9d-5453-4e53-bcbe-b83e9a2baf4c');\n",
              "          const dataTable =\n",
              "            await google.colab.kernel.invokeFunction('convertToInteractive',\n",
              "                                                     [key], {});\n",
              "          if (!dataTable) return;\n",
              "\n",
              "          const docLinkHtml = 'Like what you see? Visit the ' +\n",
              "            '<a target=\"_blank\" href=https://colab.research.google.com/notebooks/data_table.ipynb>data table notebook</a>'\n",
              "            + ' to learn more about interactive tables.';\n",
              "          element.innerHTML = '';\n",
              "          dataTable['output_type'] = 'display_data';\n",
              "          await google.colab.output.renderOutput(dataTable, element);\n",
              "          const docLink = document.createElement('div');\n",
              "          docLink.innerHTML = docLinkHtml;\n",
              "          element.appendChild(docLink);\n",
              "        }\n",
              "      </script>\n",
              "    </div>\n",
              "  </div>\n",
              "  "
            ]
          },
          "metadata": {},
          "execution_count": 3
        }
      ],
      "source": [
        "df.tail()"
      ]
    },
    {
      "cell_type": "code",
      "execution_count": 4,
      "id": "a51ed1f9",
      "metadata": {
        "id": "a51ed1f9"
      },
      "outputs": [],
      "source": [
        "##Converting the Taxable income variable to bucketing. \n",
        "df[\"income\"]=\"<=30000\"\n",
        "df.loc[df[\"Taxable.Income\"]>=30000,\"income\"]=\"Good\"\n",
        "df.loc[df[\"Taxable.Income\"]<=30000,\"income\"]=\"Risky\""
      ]
    },
    {
      "cell_type": "code",
      "execution_count": 5,
      "id": "c8febf54",
      "metadata": {
        "id": "c8febf54"
      },
      "outputs": [],
      "source": [
        "##Droping the Taxable income variable\n",
        "df.drop([\"Taxable.Income\"],axis=1,inplace=True)"
      ]
    },
    {
      "cell_type": "code",
      "execution_count": 6,
      "id": "5dc23e72",
      "metadata": {
        "id": "5dc23e72"
      },
      "outputs": [],
      "source": [
        "df.rename(columns={\"Undergrad\":\"undergrad\",\"Marital.Status\":\"marital\",\"City.Population\":\"population\",\"Work.Experience\":\"experience\",\"Urban\":\"urban\"},inplace=True)"
      ]
    },
    {
      "cell_type": "code",
      "execution_count": 7,
      "id": "1bfe3684",
      "metadata": {
        "id": "1bfe3684"
      },
      "outputs": [],
      "source": [
        "from sklearn import preprocessing\n",
        "le=preprocessing.LabelEncoder()\n",
        "for column_name in df.columns:\n",
        "    if df[column_name].dtype == object:\n",
        "        df[column_name] = le.fit_transform(df[column_name])\n",
        "    else:\n",
        "        pass"
      ]
    },
    {
      "cell_type": "code",
      "execution_count": 8,
      "id": "d273c2da",
      "metadata": {
        "id": "d273c2da"
      },
      "outputs": [],
      "source": [
        "##Splitting the data into featuers and labels\n",
        "features = df.iloc[:,0:5]\n",
        "labels = df.iloc[:,5]"
      ]
    },
    {
      "cell_type": "code",
      "execution_count": 9,
      "id": "fc135428",
      "metadata": {
        "id": "fc135428"
      },
      "outputs": [],
      "source": [
        "## Collecting the column names\n",
        "colnames = list(df.columns)\n",
        "predictors = colnames[0:5]\n",
        "target = colnames[5]\n",
        "##Splitting the data into train and test"
      ]
    },
    {
      "cell_type": "code",
      "execution_count": 10,
      "id": "1dbf5e82",
      "metadata": {
        "id": "1dbf5e82"
      },
      "outputs": [],
      "source": [
        "from sklearn.model_selection import train_test_split\n",
        "x_train,x_test,y_train,y_test = train_test_split(features,labels,test_size = 0.2,stratify = labels)"
      ]
    },
    {
      "cell_type": "code",
      "execution_count": 11,
      "id": "eaa90d80",
      "metadata": {
        "colab": {
          "base_uri": "https://localhost:8080/"
        },
        "id": "eaa90d80",
        "outputId": "9f824b5e-ed17-41f0-9535-94cf36461608"
      },
      "outputs": [
        {
          "output_type": "stream",
          "name": "stderr",
          "text": [
            "/usr/local/lib/python3.7/dist-packages/sklearn/ensemble/_forest.py:564: UserWarning: Some inputs do not have OOB scores. This probably means too few trees were used to compute any reliable OOB estimates.\n",
            "  UserWarning,\n"
          ]
        },
        {
          "output_type": "execute_result",
          "data": {
            "text/plain": [
              "RandomForestClassifier(criterion='entropy', n_estimators=15, n_jobs=3,\n",
              "                       oob_score=True)"
            ]
          },
          "metadata": {},
          "execution_count": 11
        }
      ],
      "source": [
        "##Model building\n",
        "from sklearn.ensemble import RandomForestClassifier as RF\n",
        "model = RF(n_jobs = 3,n_estimators = 15, oob_score = True, criterion = \"entropy\")\n",
        "model.fit(x_train,y_train)"
      ]
    },
    {
      "cell_type": "code",
      "execution_count": 12,
      "id": "b0d23740",
      "metadata": {
        "colab": {
          "base_uri": "https://localhost:8080/"
        },
        "id": "b0d23740",
        "outputId": "5f593b30-43d8-4c58-9820-857ca22d90d0"
      },
      "outputs": [
        {
          "output_type": "stream",
          "name": "stderr",
          "text": [
            "/usr/local/lib/python3.7/dist-packages/sklearn/utils/deprecation.py:103: FutureWarning: Attribute `n_features_` was deprecated in version 1.0 and will be removed in 1.2. Use `n_features_in_` instead.\n",
            "  warnings.warn(msg, category=FutureWarning)\n"
          ]
        },
        {
          "output_type": "execute_result",
          "data": {
            "text/plain": [
              "2"
            ]
          },
          "metadata": {},
          "execution_count": 12
        }
      ],
      "source": [
        "model.estimators_\n",
        "model.classes_\n",
        "model.n_features_\n",
        "model.n_classes_"
      ]
    },
    {
      "cell_type": "code",
      "execution_count": 13,
      "id": "804a532d",
      "metadata": {
        "colab": {
          "base_uri": "https://localhost:8080/"
        },
        "id": "804a532d",
        "outputId": "c334d65c-5264-44bb-866b-46372c75ac08"
      },
      "outputs": [
        {
          "output_type": "execute_result",
          "data": {
            "text/plain": [
              "1"
            ]
          },
          "metadata": {},
          "execution_count": 13
        }
      ],
      "source": [
        "model.n_outputs_"
      ]
    },
    {
      "cell_type": "code",
      "execution_count": 14,
      "id": "017c16a3",
      "metadata": {
        "colab": {
          "base_uri": "https://localhost:8080/"
        },
        "id": "017c16a3",
        "outputId": "1afa0735-5039-418b-d590-f3bcfb828fe1"
      },
      "outputs": [
        {
          "output_type": "execute_result",
          "data": {
            "text/plain": [
              "0.7291666666666666"
            ]
          },
          "metadata": {},
          "execution_count": 14
        }
      ],
      "source": [
        "model.oob_score_"
      ]
    },
    {
      "cell_type": "code",
      "execution_count": 15,
      "id": "f6e3c1be",
      "metadata": {
        "id": "f6e3c1be"
      },
      "outputs": [],
      "source": [
        "##Predictions on train data\n",
        "prediction = model.predict(x_train)"
      ]
    },
    {
      "cell_type": "code",
      "execution_count": 16,
      "id": "206f5581",
      "metadata": {
        "id": "206f5581"
      },
      "outputs": [],
      "source": [
        "# For accuracy \n",
        "from sklearn.metrics import accuracy_score\n",
        "accuracy = accuracy_score(y_train,prediction)\n",
        "##98.33%"
      ]
    },
    {
      "cell_type": "code",
      "execution_count": 17,
      "id": "938d5ff6",
      "metadata": {
        "colab": {
          "base_uri": "https://localhost:8080/"
        },
        "id": "938d5ff6",
        "outputId": "2b08f93b-1b7e-4f21-8154-6e8485818f6f"
      },
      "outputs": [
        {
          "output_type": "execute_result",
          "data": {
            "text/plain": [
              "0.98125"
            ]
          },
          "metadata": {},
          "execution_count": 17
        }
      ],
      "source": [
        "np.mean(prediction == y_train)"
      ]
    },
    {
      "cell_type": "code",
      "execution_count": 18,
      "id": "01100b48",
      "metadata": {
        "id": "01100b48"
      },
      "outputs": [],
      "source": [
        "##Confusion matrix\n",
        "from sklearn.metrics import confusion_matrix\n",
        "confusion = confusion_matrix(y_train,prediction)"
      ]
    },
    {
      "cell_type": "code",
      "execution_count": 19,
      "id": "95a81628",
      "metadata": {
        "id": "95a81628"
      },
      "outputs": [],
      "source": [
        "##Prediction on test data\n",
        "pred_test = model.predict(x_test)"
      ]
    },
    {
      "cell_type": "code",
      "execution_count": 20,
      "id": "c2fb6fc5",
      "metadata": {
        "id": "c2fb6fc5"
      },
      "outputs": [],
      "source": [
        "##Accuracy\n",
        "acc_test =accuracy_score(y_test,pred_test)"
      ]
    },
    {
      "cell_type": "code",
      "execution_count": 21,
      "id": "9a4012d2",
      "metadata": {
        "id": "9a4012d2"
      },
      "outputs": [],
      "source": [
        "## In random forest we can plot a Decision tree present in Random forest\n",
        "from sklearn.tree import export_graphviz\n",
        "import pydotplus # to import this use this command conda install -c conda-forge pydotplus\n",
        "from six import StringIO"
      ]
    },
    {
      "cell_type": "code",
      "execution_count": 22,
      "id": "e6c95431",
      "metadata": {
        "id": "e6c95431"
      },
      "outputs": [],
      "source": [
        "tree = model.estimators_[5]"
      ]
    },
    {
      "cell_type": "code",
      "execution_count": 23,
      "id": "2fcbed04",
      "metadata": {
        "id": "2fcbed04"
      },
      "outputs": [],
      "source": [
        "dot_data = StringIO()\n",
        "export_graphviz(tree,out_file = dot_data, filled = True,rounded = True, feature_names = predictors ,class_names = target)"
      ]
    },
    {
      "cell_type": "code",
      "execution_count": 24,
      "id": "64cf4ec6",
      "metadata": {
        "id": "64cf4ec6"
      },
      "outputs": [],
      "source": [
        "graph = pydotplus.graph_from_dot_data(dot_data.getvalue())"
      ]
    },
    {
      "cell_type": "code",
      "execution_count": 25,
      "id": "3757e7d9",
      "metadata": {
        "colab": {
          "base_uri": "https://localhost:8080/"
        },
        "id": "3757e7d9",
        "outputId": "b843c69a-e48b-43f6-de7a-482fdaaa8ffc"
      },
      "outputs": [
        {
          "output_type": "execute_result",
          "data": {
            "text/plain": [
              "True"
            ]
          },
          "metadata": {},
          "execution_count": 25
        }
      ],
      "source": [
        "## Creating pdf and png file the selected decision tree\n",
        "graph.write_pdf('df.pdf')\n",
        "graph.write_png('df.png')"
      ]
    },
    {
      "cell_type": "code",
      "execution_count": 25,
      "id": "64e4a455",
      "metadata": {
        "id": "64e4a455"
      },
      "outputs": [],
      "source": []
    }
  ],
  "metadata": {
    "kernelspec": {
      "display_name": "Python 3 (ipykernel)",
      "language": "python",
      "name": "python3"
    },
    "language_info": {
      "codemirror_mode": {
        "name": "ipython",
        "version": 3
      },
      "file_extension": ".py",
      "mimetype": "text/x-python",
      "name": "python",
      "nbconvert_exporter": "python",
      "pygments_lexer": "ipython3",
      "version": "3.9.7"
    },
    "colab": {
      "provenance": []
    }
  },
  "nbformat": 4,
  "nbformat_minor": 5
}